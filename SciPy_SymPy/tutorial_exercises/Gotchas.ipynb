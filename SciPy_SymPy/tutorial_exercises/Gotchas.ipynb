{
 "cells": [
  {
   "cell_type": "markdown",
   "id": "2d16aa5a",
   "metadata": {},
   "source": [
    "# Gotchas"
   ]
  },
  {
   "cell_type": "markdown",
   "id": "841fe151",
   "metadata": {},
   "source": [
    "Boilerplate to make the doctester work.  Run this cell first."
   ]
  },
  {
   "cell_type": "code",
   "execution_count": 15,
   "id": "4808476d",
   "metadata": {},
   "outputs": [
    {
     "ename": "ModuleNotFoundError",
     "evalue": "No module named 'IPython.zmq'",
     "output_type": "error",
     "traceback": [
      "\u001b[0;31m---------------------------------------------------------------------------\u001b[0m",
      "\u001b[0;31mModuleNotFoundError\u001b[0m                       Traceback (most recent call last)",
      "\u001b[0;32m<ipython-input-15-3af4d65a05b3>\u001b[0m in \u001b[0;36m<module>\u001b[0;34m\u001b[0m\n\u001b[1;32m      3\u001b[0m \u001b[0;31m# sys.path.insert(1, os.path.join(os.path.pardir, \"ipython_doctester\"))\u001b[0m\u001b[0;34m\u001b[0m\u001b[0;34m\u001b[0m\u001b[0;34m\u001b[0m\u001b[0m\n\u001b[1;32m      4\u001b[0m \u001b[0;32mfrom\u001b[0m \u001b[0msympy\u001b[0m \u001b[0;32mimport\u001b[0m \u001b[0;34m*\u001b[0m\u001b[0;34m\u001b[0m\u001b[0;34m\u001b[0m\u001b[0m\n\u001b[0;32m----> 5\u001b[0;31m \u001b[0;32mfrom\u001b[0m \u001b[0mipython_doctester\u001b[0m \u001b[0;32mimport\u001b[0m \u001b[0mtest\u001b[0m\u001b[0;34m\u001b[0m\u001b[0;34m\u001b[0m\u001b[0m\n\u001b[0m\u001b[1;32m      6\u001b[0m \u001b[0;31m# Work around a bug in IPython. This will disable the ability to paste things with >>>\u001b[0m\u001b[0;34m\u001b[0m\u001b[0;34m\u001b[0m\u001b[0;34m\u001b[0m\u001b[0m\n\u001b[1;32m      7\u001b[0m \u001b[0;32mdef\u001b[0m \u001b[0mnotransform\u001b[0m\u001b[0;34m(\u001b[0m\u001b[0mline\u001b[0m\u001b[0;34m)\u001b[0m\u001b[0;34m:\u001b[0m \u001b[0;32mreturn\u001b[0m \u001b[0mline\u001b[0m\u001b[0;34m\u001b[0m\u001b[0;34m\u001b[0m\u001b[0m\n",
      "\u001b[0;32m~/ws/github.com/nitinmuppalaneni/tn3python/SciPy_SymPy/tutorial_exercises/../ipython_doctester/ipython_doctester.py\u001b[0m in \u001b[0;36m<module>\u001b[0;34m\u001b[0m\n\u001b[1;32m     31\u001b[0m     \u001b[0mrequests\u001b[0m \u001b[0;34m=\u001b[0m \u001b[0;32mNone\u001b[0m\u001b[0;34m\u001b[0m\u001b[0;34m\u001b[0m\u001b[0m\n\u001b[1;32m     32\u001b[0m \u001b[0;34m\u001b[0m\u001b[0m\n\u001b[0;32m---> 33\u001b[0;31m \u001b[0;32mimport\u001b[0m \u001b[0mIPython\u001b[0m\u001b[0;34m.\u001b[0m\u001b[0mzmq\u001b[0m\u001b[0;34m.\u001b[0m\u001b[0mdisplayhook\u001b[0m\u001b[0;34m\u001b[0m\u001b[0;34m\u001b[0m\u001b[0m\n\u001b[0m\u001b[1;32m     34\u001b[0m \u001b[0;34m\u001b[0m\u001b[0m\n\u001b[1;32m     35\u001b[0m \u001b[0m__version__\u001b[0m \u001b[0;34m=\u001b[0m \u001b[0;34m'0.2.2'\u001b[0m\u001b[0;34m\u001b[0m\u001b[0;34m\u001b[0m\u001b[0m\n",
      "\u001b[0;31mModuleNotFoundError\u001b[0m: No module named 'IPython.zmq'"
     ]
    }
   ],
   "source": [
    "import sys\n",
    "import os\n",
    "# sys.path.insert(1, os.path.join(os.path.pardir, \"ipython_doctester\"))\n",
    "from sympy import *\n",
    "from ipython_doctester import test\n",
    "# Work around a bug in IPython. This will disable the ability to paste things with >>>\n",
    "def notransform(line): return line\n",
    "from IPython.core import inputsplitter\n",
    "inputsplitter.transform_classic_prompt = notransform"
   ]
  },
  {
   "cell_type": "markdown",
   "id": "81d079ef",
   "metadata": {},
   "source": [
    "For each exercise, fill in the function according to its docstring. Execute the cell to see if you did it right. "
   ]
  },
  {
   "cell_type": "markdown",
   "id": "f0a066a0",
   "metadata": {},
   "source": [
    "## Symbols"
   ]
  },
  {
   "cell_type": "markdown",
   "id": "925595dd",
   "metadata": {},
   "source": [
    "What will be the output of the following code?\n",
    "\n",
    "    x = 3\n",
    "    y = symbols('y')\n",
    "    a = x + y\n",
    "    y = 5\n",
    "    print a\n",
    "\n",
    "Replace `???` in the below code with what you think the value of `a` will be.  Remember to define any Symbols you need!"
   ]
  },
  {
   "cell_type": "code",
   "execution_count": 10,
   "id": "d4eefef2",
   "metadata": {},
   "outputs": [],
   "source": [
    "@test\n",
    "def symbols_exercise():\n",
    "    \"\"\"\n",
    "    (This tests that your output is correct)\n",
    "\n",
    "    >>> def testfunc():\n",
    "    ...     x = 3\n",
    "    ...     y = symbols('y')\n",
    "    ...     a = x + y\n",
    "    ...     y = 5\n",
    "    ...     return a\n",
    "    >>> symbols_exercise() == testfunc()\n",
    "    True\n",
    "    \"\"\"\n",
    "    return 3+y # Replace ??? with what you think the value of a is"
   ]
  },
  {
   "cell_type": "markdown",
   "id": "c08237e8",
   "metadata": {},
   "source": [
    "## Equality"
   ]
  },
  {
   "cell_type": "markdown",
   "id": "0b42f046",
   "metadata": {},
   "source": [
    "Write a function that takes two expressions as input, and returns a tuple of two booleans. The first if they are equal symbolically, and the second if they are equal mathematically."
   ]
  },
  {
   "cell_type": "code",
   "execution_count": null,
   "id": "78d6d4c1",
   "metadata": {},
   "outputs": [],
   "source": [
    "@test\n",
    "def equality_exercise(a, b):\n",
    "    \"\"\"\n",
    "    Determine if a = b symbolically and mathematically.\n",
    "\n",
    "    Returns a tuple of two booleans. The first is True if a = b symbolically,\n",
    "    the second is True if a = b mathematically.  Note the second may be False\n",
    "    but the two still equal if SymPy is not powerful enough.\n",
    "\n",
    "    Examples\n",
    "    ========\n",
    "\n",
    "    >>> x = symbols('x')\n",
    "    >>> equality_exercise(x, 2)\n",
    "    (False, False)\n",
    "    >>> equality_exercise((x + 1)**2, x**2 + 2*x + 1)\n",
    "    (False, True)\n",
    "    >>> equality_exercise(2*x, 2*x)\n",
    "    (True, True)\n",
    "    \"\"\"\n"
   ]
  },
  {
   "cell_type": "markdown",
   "id": "ca91519d",
   "metadata": {},
   "source": [
    "## `^` and `/`"
   ]
  },
  {
   "cell_type": "markdown",
   "id": "444d0451",
   "metadata": {},
   "source": [
    "Correct the following functions"
   ]
  },
  {
   "cell_type": "code",
   "execution_count": null,
   "id": "ffe5d621",
   "metadata": {},
   "outputs": [],
   "source": [
    "@test\n",
    "def operator_exercise1():\n",
    "    \"\"\"\n",
    "    >>> operator_exercise1()\n",
    "    x**2 + 2*x + 1/2\n",
    "    \"\"\"\n",
    "    x = symbols('x')\n",
    "    return x^2 + 2*x + 1/2"
   ]
  },
  {
   "cell_type": "code",
   "execution_count": null,
   "id": "4d90ebe6",
   "metadata": {},
   "outputs": [],
   "source": [
    "@test\n",
    "def operator_exercise2():\n",
    "    \"\"\"\n",
    "    >>> operator_exercise2()\n",
    "    (x**2/2 + 2*x + 3/4)**(3/2)\n",
    "    \"\"\"\n",
    "    x = symbols('x')\n",
    "    return (1/2*x^2 + 2*x + 3/4)^(3/2)"
   ]
  }
 ],
 "metadata": {
  "kernelspec": {
   "display_name": "Python 3",
   "language": "python",
   "name": "python3"
  },
  "language_info": {
   "codemirror_mode": {
    "name": "ipython",
    "version": 3
   },
   "file_extension": ".py",
   "mimetype": "text/x-python",
   "name": "python",
   "nbconvert_exporter": "python",
   "pygments_lexer": "ipython3",
   "version": "3.9.6"
  }
 },
 "nbformat": 4,
 "nbformat_minor": 1
}
