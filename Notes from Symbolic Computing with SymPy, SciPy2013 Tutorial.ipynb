{
 "cells": [
  {
   "cell_type": "markdown",
   "id": "94f28b99",
   "metadata": {},
   "source": [
    "Boilerplate to make doctester work. Run this cell first"
   ]
  },
  {
   "cell_type": "code",
   "execution_count": 60,
   "id": "463d0724",
   "metadata": {},
   "outputs": [],
   "source": [
    "%config IPCompleter.greedy = True\n",
    "\n",
    "import sys\n",
    "import os\n",
    "sys.path.insert()"
   ]
  },
  {
   "cell_type": "code",
   "execution_count": 58,
   "id": "2ec5e944",
   "metadata": {},
   "outputs": [
    {
     "data": {
      "text/latex": [
       "$\\displaystyle \\int e^{x} \\cos{\\left(x \\right)}\\, dx = \\frac{e^{x} \\sin{\\left(x \\right)}}{2} + \\frac{e^{x} \\cos{\\left(x \\right)}}{2}$"
      ],
      "text/plain": [
       "⌠                 x           x       \n",
       "⎮  x             ℯ ⋅sin(x)   ℯ ⋅cos(x)\n",
       "⎮ ℯ ⋅cos(x) dx = ───────── + ─────────\n",
       "⌡                    2           2    "
      ]
     },
     "execution_count": 58,
     "metadata": {},
     "output_type": "execute_result"
    }
   ],
   "source": [
    "from sympy import *\n",
    "x = symbols('x')\n",
    "a = Integral(cos(x)*exp(x), x)\n",
    "Eq(a, a.doit())"
   ]
  },
  {
   "cell_type": "code",
   "execution_count": 59,
   "id": "30e1bc64",
   "metadata": {},
   "outputs": [
    {
     "data": {
      "text/latex": [
       "$\\displaystyle \\sqrt{3}$"
      ],
      "text/plain": [
       "√3"
      ]
     },
     "execution_count": 59,
     "metadata": {},
     "output_type": "execute_result"
    }
   ],
   "source": [
    "import math\n",
    "import sympy\n",
    "a = sympy.sqrt(3)\n",
    "expand(a)"
   ]
  },
  {
   "cell_type": "code",
   "execution_count": 18,
   "id": "be26a17d",
   "metadata": {},
   "outputs": [
    {
     "data": {
      "text/latex": [
       "$\\displaystyle x + 2 y$"
      ],
      "text/plain": [
       "x + 2*y"
      ]
     },
     "execution_count": 18,
     "metadata": {},
     "output_type": "execute_result"
    }
   ],
   "source": [
    "from sympy import symbols\n",
    "x, y = symbols('x y')\n",
    "expr = x + 2*y\n",
    "expr"
   ]
  },
  {
   "cell_type": "code",
   "execution_count": 57,
   "id": "45438ff6",
   "metadata": {},
   "outputs": [
    {
     "name": "stdout",
     "output_type": "stream",
     "text": [
      " x           x       \n",
      "ℯ ⋅sin(x) + ℯ ⋅cos(x)\n",
      " x       \n",
      "ℯ ⋅sin(x)\n",
      "√2⋅√π\n",
      "─────\n",
      "  2  \n",
      "1\n",
      " 3      \n",
      "x  - 2⋅x\n",
      "  ⎛ 2    ⎞\n",
      "x⋅⎝x  - 2⎠\n",
      "4\n",
      "[-√2, √2]\n",
      "⎡⎛            ⎡⎡  √17   1⎤⎤⎞  ⎛            ⎡⎡  1   √17⎤⎤⎞⎤\n",
      "⎢⎜3   √17     ⎢⎢- ─── - ─⎥⎥⎟  ⎜3   √17     ⎢⎢- ─ + ───⎥⎥⎟⎥\n",
      "⎢⎜─ - ───, 1, ⎢⎢   4    4⎥⎥⎟, ⎜─ + ───, 1, ⎢⎢  4    4 ⎥⎥⎟⎥\n",
      "⎢⎜2    2      ⎢⎢         ⎥⎥⎟  ⎜2    2      ⎢⎢         ⎥⎥⎟⎥\n",
      "⎣⎝            ⎣⎣    1    ⎦⎦⎠  ⎝            ⎣⎣    1    ⎦⎦⎠⎦\n",
      "⎧3   √17     3   √17   ⎫\n",
      "⎨─ - ───: 1, ─ + ───: 1⎬\n",
      "⎩2    2      2    2    ⎭\n"
     ]
    }
   ],
   "source": [
    "from sympy import *\n",
    "x, t, z, nu = symbols('x t z nu')\n",
    "\n",
    "init_printing(use_unicode=True)\n",
    "\n",
    "# Find differential\n",
    "d = diff(sin(x)*exp(x))\n",
    "pretty_print(d)\n",
    "\n",
    "# Compute integral\n",
    "orig = integrate(d, x)\n",
    "pretty_print(orig)\n",
    "\n",
    "# Integrate over a range\n",
    "integ = integrate(sin(x**2), (x, -oo, oo))\n",
    "pretty_print(integ)\n",
    "\n",
    "# Find the limit\n",
    "lim = limit(sin(x)/x, x, 0)\n",
    "pretty_print(lim)\n",
    "\n",
    "# Expand and Factor\n",
    "pretty_print(expand(x*(x**2 - 2)))\n",
    "pretty_print(factor(x**3 - 2*x))\n",
    "\n",
    "# Substitute\n",
    "pretty_print((x+1).subs(x, 3))\n",
    "\n",
    "# Solve polynomial equations\n",
    "sol = solve(x**2 - 2, x)\n",
    "pretty_print(sol)\n",
    "\n",
    "# Solve differential equation y**n - y = exp(t)\n",
    "# [TODO] Understand what is going on here.\n",
    "y = Function('y')\n",
    "eq = Eq(y(t).diff(t, t) - y(t), exp(t))     \"\"\" Eq is symbolic equality, \n",
    "                                                == is structural equality. \n",
    "                                                \n",
    "                                                To check for symbolic equality use\n",
    "                                                simplify(expr1 - expr2) and use == to 0.\n",
    "                                                \"\"\"\n",
    "dsolve(eq, y(t))\n",
    "\n",
    "# Eigen values\n",
    "a = Matrix([[1, 2],\n",
    "            [2, 2]])\n",
    "pretty_print(a.eigenvects())\n",
    "pretty_print(a.eigenvals())\n",
    "\n",
    "# All SymPy expressions are immutable.\n",
    "\n"
   ]
  },
  {
   "cell_type": "code",
   "execution_count": 61,
   "id": "cee04d68",
   "metadata": {},
   "outputs": [
    {
     "data": {
      "text/latex": [
       "$\\displaystyle y + 3$"
      ],
      "text/plain": [
       "y + 3"
      ]
     },
     "execution_count": 61,
     "metadata": {},
     "output_type": "execute_result"
    }
   ],
   "source": [
    "def testfunc():\n",
    "    x = 3\n",
    "    y = symbols('y')\n",
    "    a = x + y\n",
    "    y = 5\n",
    "    return a\n",
    "\n",
    "testfunc()"
   ]
  },
  {
   "cell_type": "code",
   "execution_count": 66,
   "id": "879b4faf",
   "metadata": {},
   "outputs": [
    {
     "name": "stdout",
     "output_type": "stream",
     "text": [
      "False\n",
      "True\n",
      "True\n"
     ]
    }
   ],
   "source": [
    "def equality_exercise(a, b):\n",
    "    return simplify(a - b) == 0\n",
    "\n",
    "x = symbols('x')\n",
    "pretty_print(equality_exercise(x, 2))\n",
    "pretty_print(equality_exercise((x + 1)**2, x**2 + 2*x + 1))\n",
    "pretty_print(equality_exercise(2*x, 2*x))"
   ]
  },
  {
   "cell_type": "code",
   "execution_count": 73,
   "id": "77c24ab9",
   "metadata": {},
   "outputs": [
    {
     "name": "stdout",
     "output_type": "stream",
     "text": [
      " 2          \n",
      "x  + 2⋅x + 1\n",
      "4\n"
     ]
    },
    {
     "data": {
      "text/latex": [
       "$\\displaystyle \\left[ -3, \\  1\\right]$"
      ],
      "text/plain": [
       "[-3, 1]"
      ]
     },
     "execution_count": 73,
     "metadata": {},
     "output_type": "execute_result"
    }
   ],
   "source": [
    "x = symbols('x')\n",
    "expr = Eq(x**2 + 2*x + 1, 4)\n",
    "pretty_print(expr.lhs)\n",
    "pretty_print(expr.rhs)\n",
    "solve(expr)"
   ]
  },
  {
   "cell_type": "code",
   "execution_count": 74,
   "id": "8657536e",
   "metadata": {},
   "outputs": [
    {
     "name": "stdout",
     "output_type": "stream",
     "text": [
      "0.5\n",
      "1/2\n"
     ]
    }
   ],
   "source": [
    "pretty_print(1/2)      \"\"\" Python 1/2 is 0.5, interesting that it does \n",
    "                           not integer arithmetic and give 0.\"\"\"\n",
    "pretty_print(S(1)/2)   # keeps it in symbolic form"
   ]
  },
  {
   "cell_type": "code",
   "execution_count": 87,
   "id": "5902734e",
   "metadata": {},
   "outputs": [
    {
     "name": "stdout",
     "output_type": "stream",
     "text": [
      " 2          \n",
      "x  + 2⋅x + 1\n",
      "<class 'sympy.core.symbol.Symbol'>\n",
      "<class 'sympy.core.power.Pow'>\n",
      "<class 'sympy.core.mul.Mul'>\n",
      "<class 'int'>\n",
      "<class 'sympy.core.add.Add'>\n"
     ]
    }
   ],
   "source": [
    "x: Symbol = symbols('x')\n",
    "expr = x**2 + 2*x + 1\n",
    "pretty_print(expr)\n",
    "pretty_print(type(x))\n",
    "pretty_print(type(x**2))\n",
    "pretty_print(type(x*2))\n",
    "pretty_print(type(1))\n",
    "pretty_print(type(expr))"
   ]
  },
  {
   "cell_type": "code",
   "execution_count": 96,
   "id": "cf11acee",
   "metadata": {},
   "outputs": [
    {
     "name": "stdout",
     "output_type": "stream",
     "text": [
      "1\n",
      " ⎛ ⎛ ⎛ ⎛ x⎞⎞⎞⎞\n",
      " ⎜ ⎜ ⎜ ⎝x ⎠⎟⎟⎟\n",
      " ⎜ ⎜ ⎝x    ⎠⎟⎟\n",
      " ⎜ ⎝x       ⎠⎟\n",
      " ⎝x          ⎠\n",
      "x             \n"
     ]
    }
   ],
   "source": [
    "\"\"\"\n",
    "Basic operations.\n",
    "\"\"\"\n",
    "def uparrow(x, n):\n",
    "    if n == 0:\n",
    "        return 1\n",
    "    else:\n",
    "        return x**uparrow(x, n-1)\n",
    "    \n",
    "x = symbols('x')\n",
    "pretty_print(uparrow(x, 0))\n",
    "pretty_print(uparrow(x, 6))"
   ]
  },
  {
   "cell_type": "code",
   "execution_count": 98,
   "id": "31b85036",
   "metadata": {},
   "outputs": [
    {
     "name": "stdout",
     "output_type": "stream",
     "text": [
      "3.1415926535897932384626433832795028841971693993751058209749445923078164062862\n",
      "08998628034825342117068\n"
     ]
    }
   ],
   "source": [
    "pretty_print(pi.evalf(100))"
   ]
  },
  {
   "cell_type": "code",
   "execution_count": 113,
   "id": "4089601a",
   "metadata": {},
   "outputs": [
    {
     "data": {
      "text/latex": [
       "$\\displaystyle \\left[ a, \\  b, \\  c, \\  d, \\  e, \\  f, \\  g, \\  h, \\  i, \\  j, \\  k, \\  l, \\  m, \\  n, \\  o, \\  p, \\  q, \\  r, \\  s, \\  t, \\  u, \\  v, \\  w, \\  x, \\  y, \\  z\\right]$"
      ],
      "text/plain": [
       "[a, b, c, d, e, f, g, h, i, j, k, l, m, n, o, p, q, r, s, t, u, v, w, x, y, z]"
      ]
     },
     "execution_count": 113,
     "metadata": {},
     "output_type": "execute_result"
    }
   ],
   "source": [
    "\"\"\"\n",
    "symbols can take a list of string characters too\n",
    "\"\"\"\n",
    "import string\n",
    "symbols(list(string.ascii_lowercase))\n"
   ]
  },
  {
   "cell_type": "code",
   "execution_count": 114,
   "id": "aa473aa6",
   "metadata": {},
   "outputs": [
    {
     "data": {
      "text/plain": [
       "'\\nOther Matrixes, sympy expressions are immutable.\\n'"
      ]
     },
     "execution_count": 114,
     "metadata": {},
     "output_type": "execute_result"
    }
   ],
   "source": [
    "\"\"\"\n",
    "Other than Matrixes, sympy expressions are immutable.\n",
    "\"\"\""
   ]
  },
  {
   "cell_type": "code",
   "execution_count": 119,
   "id": "f19ee2e8",
   "metadata": {},
   "outputs": [
    {
     "name": "stdout",
     "output_type": "stream",
     "text": [
      "763\n",
      "-1\n",
      "384341\n"
     ]
    }
   ],
   "source": [
    "def find_999999(expr, limit=100000):\n",
    "    return str(expr.evalf(limit)).find('999999')\n",
    "    \n",
    "pretty_print(find_999999(pi))\n",
    "pretty_print(find_999999(E))\n",
    "pretty_print(find_999999(E, 1000000))"
   ]
  },
  {
   "cell_type": "code",
   "execution_count": 122,
   "id": "ba2214aa",
   "metadata": {},
   "outputs": [
    {
     "data": {
      "text/latex": [
       "$\\displaystyle x^{2} + 2 x + 1$"
      ],
      "text/plain": [
       " 2          \n",
       "x  + 2⋅x + 1"
      ]
     },
     "execution_count": 122,
     "metadata": {},
     "output_type": "execute_result"
    }
   ],
   "source": [
    "simplify(x**2 + 2*x + 1)"
   ]
  },
  {
   "cell_type": "code",
   "execution_count": 131,
   "id": "247a6c99",
   "metadata": {},
   "outputs": [
    {
     "data": {
      "text/latex": [
       "$\\displaystyle x - 1$"
      ],
      "text/plain": [
       "x - 1"
      ]
     },
     "execution_count": 131,
     "metadata": {},
     "output_type": "execute_result"
    }
   ],
   "source": [
    "gamma(x)\n",
    "# help(gamma)\n",
    "simplify(gamma(x)/gamma(x-1))"
   ]
  },
  {
   "cell_type": "code",
   "execution_count": 135,
   "id": "26f115ca",
   "metadata": {},
   "outputs": [
    {
     "name": "stdout",
     "output_type": "stream",
     "text": [
      "            ⎛    2     ⎞ \n",
      " (4⋅x - 12)⋅⎝49⋅x  - 25⎠ \n",
      "─────────────────────────\n",
      "          ⎛   2         ⎞\n",
      "(7⋅x + 5)⋅⎝2⋅x  + x - 21⎠\n",
      "4⋅(7⋅x - 5)\n",
      "───────────\n",
      "  2⋅x + 7  \n",
      "28⋅x - 20\n",
      "─────────\n",
      " 2⋅x + 7 \n",
      "4⋅(7⋅x - 5)\n",
      "───────────\n",
      "  2⋅x + 7  \n",
      "       118  \n",
      "14 - ───────\n",
      "     2⋅x + 7\n",
      "                3                             2                               \n",
      "           196⋅x                         588⋅x                         100⋅x  \n",
      "─────────────────────────── - ─────────────────────────── - ──────────────────\n",
      "    3       2                     3       2                     3       2     \n",
      "14⋅x  + 17⋅x  - 142⋅x - 105   14⋅x  + 17⋅x  - 142⋅x - 105   14⋅x  + 17⋅x  - 14\n",
      "\n",
      "                                       \n",
      "                        300            \n",
      "───────── + ───────────────────────────\n",
      "                3       2              \n",
      "2⋅x - 105   14⋅x  + 17⋅x  - 142⋅x - 105\n"
     ]
    }
   ],
   "source": [
    "\"\"\"\n",
    "A problem from Tanvi's math homework!\n",
    "\"\"\"\n",
    "x = symbols('x')\n",
    "expr = ((49*x**2 - 25)/(2*x**2 + x - 21))*((4*x - 12)/(7*x + 5))\n",
    "pretty_print(expr)\n",
    "pretty_print(simplify(expr))\n",
    "pretty_print(cancel(simplify(expr)))\n",
    "pretty_print(factor(cancel(simplify(expr))))\n",
    "pretty_print(apart(expr))\n",
    "pretty_print(expand(expr))"
   ]
  },
  {
   "cell_type": "code",
   "execution_count": 149,
   "id": "fad831f0",
   "metadata": {},
   "outputs": [
    {
     "name": "stdout",
     "output_type": "stream",
     "text": [
      "acos(cos(x))\n",
      "acos(cos(x))\n",
      "acos(cos(x))\n",
      "x\n"
     ]
    }
   ],
   "source": [
    "\"\"\"\n",
    "Trigonometric simplification.\n",
    "\"\"\"\n",
    "x = symbols('x')\n",
    "expr = acos(cos(x))\n",
    "pretty_print(expr)\n",
    "pretty_print(simplify(expr))\n",
    "pretty_print(trigsimp(expr))\n",
    "pretty_print(cos(acos(x)))\n"
   ]
  },
  {
   "cell_type": "code",
   "execution_count": 154,
   "id": "1b30437f",
   "metadata": {},
   "outputs": [
    {
     "name": "stdout",
     "output_type": "stream",
     "text": [
      "     2             \n",
      "0.6⋅x  + 2.1⋅x + 11\n",
      "1.2⋅x + 2.1\n",
      "66.2000000000000\n",
      "11.7000000000000\n"
     ]
    }
   ],
   "source": [
    "\"\"\"\n",
    "Substitution from Tanvi's homework\n",
    "\"\"\"\n",
    "x = symbols('x')\n",
    "y = 0.6*x**2 + 2.1*x + 11\n",
    "a = diff(y, x)\n",
    "pretty_print(y)\n",
    "pretty_print(a)\n",
    "pretty_print(y.subs(x, 8))\n",
    "pretty_print(a.subs(x, 8))"
   ]
  },
  {
   "cell_type": "code",
   "execution_count": 157,
   "id": "19b7c8ec",
   "metadata": {},
   "outputs": [
    {
     "name": "stdout",
     "output_type": "stream",
     "text": [
      "2⋅sin(x)⋅cos(x)\n",
      "     2       \n",
      "2⋅cos (x) - 1\n",
      "  2⋅tan(x) \n",
      "───────────\n",
      "       2   \n",
      "1 - tan (x)\n"
     ]
    }
   ],
   "source": [
    "\"\"\"\n",
    "Expand trignometric expressions.\n",
    "\"\"\"\n",
    "\n",
    "x = symbols('x')\n",
    "pretty_print(expand_trig(sin(2*x)))\n",
    "pretty_print(expand_trig(cos(2*x)))\n",
    "pretty_print(expand_trig(tan(2*x)))"
   ]
  },
  {
   "cell_type": "code",
   "execution_count": 158,
   "id": "6a6aa6f4",
   "metadata": {},
   "outputs": [],
   "source": [
    "simplify?"
   ]
  },
  {
   "cell_type": "code",
   "execution_count": 170,
   "id": "d194afa1",
   "metadata": {},
   "outputs": [
    {
     "name": "stdout",
     "output_type": "stream",
     "text": [
      " a + b\n",
      "x     \n",
      " c + d\n",
      "z     \n",
      "     a\n",
      "(x⋅y) \n",
      " c  c\n",
      "t ⋅z \n",
      " m⋅n\n",
      "z   \n",
      "    d\n",
      "⎛ c⎞ \n",
      "⎝z ⎠ \n"
     ]
    }
   ],
   "source": [
    "\"\"\"\n",
    "Laws of powers.\n",
    "\n",
    "I did know the subtlety here. The rules selectively apply!!!\n",
    "Tanvi is teaching so much math!!!\n",
    "\n",
    "powersimp\n",
    "expand_power_exp\n",
    "expand_power_base\n",
    "powdenest - denest the pow\n",
    "\n",
    "\"\"\"\n",
    "x, y = symbols('x y', positive=True)\n",
    "m, n = symbols('m n', integer=True)\n",
    "a, b = symbols('a b', real=True)\n",
    "z, t, c, d = symbols('z t c d')\n",
    "\n",
    "pretty_print(powsimp(x**a * x**b))\n",
    "pretty_print(powsimp(z**c * z**d))\n",
    "\n",
    "pretty_print(powsimp(x**a * y**a))  # Simplifies x>=0, y>=0, a,b are R\n",
    "pretty_print(powsimp(z**c * t**c))  # Does not simplify\n",
    "\n",
    "pretty_print(powsimp((z**m)**n))\n",
    "pretty_print(powsimp((z**c)**d))"
   ]
  },
  {
   "cell_type": "code",
   "execution_count": 172,
   "id": "7efa48d8",
   "metadata": {},
   "outputs": [
    {
     "name": "stdout",
     "output_type": "stream",
     "text": [
      "log(x) + log(y)\n",
      "n⋅log(x)\n",
      "log(t⋅z)\n",
      "   ⎛ n⎞\n",
      "log⎝z ⎠\n"
     ]
    }
   ],
   "source": [
    "\"\"\"\n",
    "Logarithm functions.\n",
    "\n",
    "These laws apply only when bases are positive and power is real.\n",
    "\"\"\"\n",
    "\n",
    "x, y = symbols('x y', positive=True)\n",
    "n = symbols('n', real=True)\n",
    "z, t = symbols('z t')\n",
    "\n",
    "pretty_print(expand_log(log(x*y)))\n",
    "pretty_print(expand_log(log(x**n)))\n",
    "\n",
    "pretty_print(expand_log(log(z*t)))\n",
    "pretty_print(expand_log(log(z**n)))"
   ]
  },
  {
   "cell_type": "code",
   "execution_count": 186,
   "id": "c59e9a12",
   "metadata": {},
   "outputs": [
    {
     "data": {
      "image/png": "[encoded data removed]",
      "text/plain": [
       "<Figure size 432x288 with 1 Axes>"
      ]
     },
     "metadata": {
      "needs_background": "light"
     },
     "output_type": "display_data"
    }
   ],
   "source": [
    "\"\"\"\n",
    "Plotting in sympy.\n",
    "\"\"\"\n",
    "from sympy import symbols\n",
    "from sympy.plotting import plot\n",
    "\n",
    "x = symbols('x')\n",
    "expr = x**2\n",
    "\n",
    "p_x2 = plot(x**2, line_color='green', show=False)\n",
    "p_x1 = plot(10*x, line_color='red', show=False)\n",
    "p_x0 = plot(0, line_color='cyan', show=False)\n",
    "\n",
    "p = plot(x**2 + 20*x + 100, show=False)\n",
    "p.append(p_x0[0])\n",
    "p.append(p_x1[0])\n",
    "p.append(p_x2[0])\n",
    "p.show()\n",
    "\n",
    "plot?"
   ]
  },
  {
   "cell_type": "code",
   "execution_count": null,
   "id": "456cf3e0",
   "metadata": {},
   "outputs": [],
   "source": []
  }
 ],
 "metadata": {
  "kernelspec": {
   "display_name": "Python 3",
   "language": "python",
   "name": "python3"
  },
  "language_info": {
   "codemirror_mode": {
    "name": "ipython",
    "version": 3
   },
   "file_extension": ".py",
   "mimetype": "text/x-python",
   "name": "python",
   "nbconvert_exporter": "python",
   "pygments_lexer": "ipython3",
   "version": "3.9.6"
  }
 },
 "nbformat": 4,
 "nbformat_minor": 5
}
