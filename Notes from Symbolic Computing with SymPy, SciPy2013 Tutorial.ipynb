{
 "cells": [
  {
   "cell_type": "markdown",
   "id": "79071f6b",
   "metadata": {},
   "source": [
    "Boilerplate to make doctester work. Run this cell first"
   ]
  },
  {
   "cell_type": "code",
   "execution_count": 60,
   "id": "d018a809",
   "metadata": {},
   "outputs": [],
   "source": [
    "%config IPCompleter.greedy = True\n",
    "\n",
    "import sys\n",
    "import os\n",
    "sys.path.insert()"
   ]
  },
  {
   "cell_type": "code",
   "execution_count": 58,
   "id": "645e1c2a",
   "metadata": {},
   "outputs": [
    {
     "data": {
      "text/latex": [
       "$\\displaystyle \\int e^{x} \\cos{\\left(x \\right)}\\, dx = \\frac{e^{x} \\sin{\\left(x \\right)}}{2} + \\frac{e^{x} \\cos{\\left(x \\right)}}{2}$"
      ],
      "text/plain": [
       "⌠                 x           x       \n",
       "⎮  x             ℯ ⋅sin(x)   ℯ ⋅cos(x)\n",
       "⎮ ℯ ⋅cos(x) dx = ───────── + ─────────\n",
       "⌡                    2           2    "
      ]
     },
     "execution_count": 58,
     "metadata": {},
     "output_type": "execute_result"
    }
   ],
   "source": [
    "from sympy import *\n",
    "x = symbols('x')\n",
    "a = Integral(cos(x)*exp(x), x)\n",
    "Eq(a, a.doit())"
   ]
  },
  {
   "cell_type": "code",
   "execution_count": 59,
   "id": "89fa39f0",
   "metadata": {},
   "outputs": [
    {
     "data": {
      "text/latex": [
       "$\\displaystyle \\sqrt{3}$"
      ],
      "text/plain": [
       "√3"
      ]
     },
     "execution_count": 59,
     "metadata": {},
     "output_type": "execute_result"
    }
   ],
   "source": [
    "import math\n",
    "import sympy\n",
    "a = sympy.sqrt(3)\n",
    "expand(a)"
   ]
  },
  {
   "cell_type": "code",
   "execution_count": 18,
   "id": "ad6352f8",
   "metadata": {},
   "outputs": [
    {
     "data": {
      "text/latex": [
       "$\\displaystyle x + 2 y$"
      ],
      "text/plain": [
       "x + 2*y"
      ]
     },
     "execution_count": 18,
     "metadata": {},
     "output_type": "execute_result"
    }
   ],
   "source": [
    "from sympy import symbols\n",
    "x, y = symbols('x y')\n",
    "expr = x + 2*y\n",
    "expr"
   ]
  },
  {
   "cell_type": "code",
   "execution_count": 57,
   "id": "260dc1bc",
   "metadata": {},
   "outputs": [
    {
     "name": "stdout",
     "output_type": "stream",
     "text": [
      " x           x       \n",
      "ℯ ⋅sin(x) + ℯ ⋅cos(x)\n",
      " x       \n",
      "ℯ ⋅sin(x)\n",
      "√2⋅√π\n",
      "─────\n",
      "  2  \n",
      "1\n",
      " 3      \n",
      "x  - 2⋅x\n",
      "  ⎛ 2    ⎞\n",
      "x⋅⎝x  - 2⎠\n",
      "4\n",
      "[-√2, √2]\n",
      "⎡⎛            ⎡⎡  √17   1⎤⎤⎞  ⎛            ⎡⎡  1   √17⎤⎤⎞⎤\n",
      "⎢⎜3   √17     ⎢⎢- ─── - ─⎥⎥⎟  ⎜3   √17     ⎢⎢- ─ + ───⎥⎥⎟⎥\n",
      "⎢⎜─ - ───, 1, ⎢⎢   4    4⎥⎥⎟, ⎜─ + ───, 1, ⎢⎢  4    4 ⎥⎥⎟⎥\n",
      "⎢⎜2    2      ⎢⎢         ⎥⎥⎟  ⎜2    2      ⎢⎢         ⎥⎥⎟⎥\n",
      "⎣⎝            ⎣⎣    1    ⎦⎦⎠  ⎝            ⎣⎣    1    ⎦⎦⎠⎦\n",
      "⎧3   √17     3   √17   ⎫\n",
      "⎨─ - ───: 1, ─ + ───: 1⎬\n",
      "⎩2    2      2    2    ⎭\n"
     ]
    }
   ],
   "source": [
    "from sympy import *\n",
    "x, t, z, nu = symbols('x t z nu')\n",
    "\n",
    "init_printing(use_unicode=True)\n",
    "\n",
    "# Find differential\n",
    "d = diff(sin(x)*exp(x))\n",
    "pretty_print(d)\n",
    "\n",
    "# Compute integral\n",
    "orig = integrate(d, x)\n",
    "pretty_print(orig)\n",
    "\n",
    "# Integrate over a range\n",
    "integ = integrate(sin(x**2), (x, -oo, oo))\n",
    "pretty_print(integ)\n",
    "\n",
    "# Find the limit\n",
    "lim = limit(sin(x)/x, x, 0)\n",
    "pretty_print(lim)\n",
    "\n",
    "# Expand and Factor\n",
    "pretty_print(expand(x*(x**2 - 2)))\n",
    "pretty_print(factor(x**3 - 2*x))\n",
    "\n",
    "# Substitute\n",
    "pretty_print((x+1).subs(x, 3))\n",
    "\n",
    "# Solve polynomial equations\n",
    "sol = solve(x**2 - 2, x)\n",
    "pretty_print(sol)\n",
    "\n",
    "# Solve differential equation y**n - y = exp(t)\n",
    "# [TODO] Understand what is going on here.\n",
    "y = Function('y')\n",
    "eq = Eq(y(t).diff(t, t) - y(t), exp(t))     \"\"\" Eq is symbolic equality, \n",
    "                                                == is structural equality. \n",
    "                                                \n",
    "                                                To check for symbolic equality use\n",
    "                                                simplify(expr1 - expr2) and use == to 0.\n",
    "                                                \"\"\"\n",
    "dsolve(eq, y(t))\n",
    "\n",
    "# Eigen values\n",
    "a = Matrix([[1, 2],\n",
    "            [2, 2]])\n",
    "pretty_print(a.eigenvects())\n",
    "pretty_print(a.eigenvals())\n",
    "\n",
    "# All SymPy expressions are immutable.\n",
    "\n"
   ]
  },
  {
   "cell_type": "code",
   "execution_count": null,
   "id": "76157bd7",
   "metadata": {},
   "outputs": [],
   "source": [
    "integrate()"
   ]
  }
 ],
 "metadata": {
  "kernelspec": {
   "display_name": "Python 3",
   "language": "python",
   "name": "python3"
  },
  "language_info": {
   "codemirror_mode": {
    "name": "ipython",
    "version": 3
   },
   "file_extension": ".py",
   "mimetype": "text/x-python",
   "name": "python",
   "nbconvert_exporter": "python",
   "pygments_lexer": "ipython3",
   "version": "3.9.6"
  }
 },
 "nbformat": 4,
 "nbformat_minor": 5
}
